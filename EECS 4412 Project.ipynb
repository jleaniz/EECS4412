{
 "cells": [
  {
   "cell_type": "markdown",
   "metadata": {
    "slideshow": {
     "slide_type": "slide"
    }
   },
   "source": [
    "# Project\n",
    "\n",
    "## Team Information\n",
    "Juan Leaniz Pittamiglio\n",
    "\n",
    "Student ID: \n",
    "\n",
    "jleaniz@my.yorku.ca\n",
    "\n",
    "## Overview\n",
    "Most consumers read online reviews before visiting a business or using a service. The reviews not only provide customers with important information for making their decisions, but also help businesses get key insights from their customers and make improvements based on customer feedbacks. In this project, i was given a training data set that contains Yelp reviews of businesses (such as restaurants, home services, auto services, etc.). The reviews in the training dataset are labeled as positive, negative or neutral, and the goal is to build a classifier based on the training data.\n",
    "\n",
    "Considering that the training dataset contains labeled samples, a supervised learning approach is appropriate for this problem. As such, I have selected three supervised learning algorithms to train classifier models.\n",
    "\n",
    "This project utilizes scikit-learn, a Python library for machine learning. I selected scikit-learn as it provides the ability to easily perform tasks such as text pre-processing, hyperparamater search and dataset splits. Furthermore, scikit-learn supports a wide variety of learning algorithms, including the ones used in this project. Scikit-learn also provides the ability to validate the accuracy of any trained models by utilizing different measures such as precision, recall, f-measure and overall accuracy using a weighted average of these measures.\n",
    "\n",
    "All these features allowed me to pre-process the datasets, train various models using different supervised learning algorithms and then validate their accuracy using a train/test dataset split.\n",
    "\n",
    "Finally, selecting the best model is a matter of finding a balance between the different accuracy measures and then using the model to make predictions on an unlabeled dataset that was provided as part of this project.\n",
    "\n",
    "\n",
    "## Datasets\n",
    "This section describes the different datasets used within this project.\n",
    "\n",
    "**train3.csv**: This dataset contains 50,000 samples of Yelp reviews. The samples are labeled as positive, negative or neutral reviews.\n",
    "\n",
    "**test3.csv**: This test set contains **unlabeled** samples which will be classified by our model.\n",
    "\n",
    "**preprocessed_train3.csv**: This is the training dataset after removing stop words. This dataset is not used to train the models and is only here to meet project requirements of providing a processed training dataset in .arff format for Weka. All text pre-processing in the main program for this project (**trainer.py**) is performed directly by utilizing scikit-learn functions within TfidfVectorizer.\n"
   ]
  },
  {
   "cell_type": "markdown",
   "metadata": {
    "slideshow": {
     "slide_type": "slide"
    }
   },
   "source": [
    "# Load required Python libraries\n",
    "In order to run the program, the following requirements need to be met:\n",
    "- Python 3.7\n",
    "- Pandas\n",
    "- Scikit-learn\n",
    "\n",
    "Install them via **pip3 install pandas scikit-learn** in the command line.\n",
    "\n",
    "Alternatively, the packages can be installed by running **pip install -r requirements.txt**"
   ]
  },
  {
   "cell_type": "code",
   "execution_count": 187,
   "metadata": {
    "slideshow": {
     "slide_type": "subslide"
    }
   },
   "outputs": [],
   "source": [
    "import pandas as pd\n",
    "from sklearn.model_selection import train_test_split\n",
    "from sklearn.linear_model import SGDClassifier\n",
    "from sklearn.linear_model import LogisticRegression\n",
    "from sklearn.neighbors import KNeighborsClassifier\n",
    "from sklearn.ensemble import RandomForestClassifier\n",
    "from sklearn.pipeline import Pipeline\n",
    "from sklearn.utils import resample\n",
    "from sklearn.model_selection import GridSearchCV\n",
    "from sklearn.model_selection import cross_validate\n",
    "from sklearn.feature_extraction.text import TfidfVectorizer\n",
    "from sklearn.metrics import accuracy_score, classification_report\n",
    "\n",
    "################## CONFUGIRATION ##################\n",
    "# Set to True to perform an exhaustive parameter grid search\n",
    "# WARNING: It will take a long time to train if set to True\n",
    "param_grid_search = False \n",
    "\n",
    "# Number of folds for cross validation\n",
    "# NOTE: Only used if param_grid_search is True\n",
    "k_fold = 3 \n",
    "\n",
    "# Absolute path to the datasets - MUST be configured\n",
    "train_dataset_path='train3.csv'\n",
    "test_dataset_path='test3.csv'\n",
    "stop_words_path='stop_words.txt'"
   ]
  },
  {
   "cell_type": "markdown",
   "metadata": {
    "slideshow": {
     "slide_type": "slide"
    }
   },
   "source": [
    "# Data Analysis: Exploring the Training dataset\n",
    "\n",
    "Our first step is to explore the dataset and identify any potential issues we may encounter when pre-processing the text reviews (e.g. special characters, bad grammar, etc), or any imbalances with the number of labaled samples.\n"
   ]
  },
  {
   "cell_type": "code",
   "execution_count": 172,
   "metadata": {
    "slideshow": {
     "slide_type": "fragment"
    }
   },
   "outputs": [],
   "source": [
    "df = pd.read_csv(\"train3.csv\")"
   ]
  },
  {
   "cell_type": "code",
   "execution_count": 173,
   "metadata": {
    "slideshow": {
     "slide_type": "fragment"
    }
   },
   "outputs": [
    {
     "data": {
      "text/plain": [
       "Index(['text', 'class', 'ID'], dtype='object')"
      ]
     },
     "execution_count": 173,
     "metadata": {},
     "output_type": "execute_result"
    }
   ],
   "source": [
    "df.columns"
   ]
  },
  {
   "cell_type": "code",
   "execution_count": 174,
   "metadata": {
    "slideshow": {
     "slide_type": "fragment"
    }
   },
   "outputs": [
    {
     "name": "stdout",
     "output_type": "stream",
     "text": [
      "The number of reviews for each class is: \n",
      " positive    38348\n",
      "negative    11897\n",
      "neutral      5755\n",
      "Name: class, dtype: int64\n"
     ]
    },
    {
     "data": {
      "text/plain": [
       "<matplotlib.axes._subplots.AxesSubplot at 0x2b1c1787cc8>"
      ]
     },
     "execution_count": 174,
     "metadata": {},
     "output_type": "execute_result"
    },
    {
     "data": {
      "image/png": "[encoded data removed]",
      "text/plain": [
       "<Figure size 432x288 with 1 Axes>"
      ]
     },
     "metadata": {},
     "output_type": "display_data"
    }
   ],
   "source": [
    "print(\"The number of reviews for each class is: \\n\",df['class'].value_counts())\n",
    "\n",
    "df['class'].value_counts().plot(kind='pie')"
   ]
  },
  {
   "cell_type": "code",
   "execution_count": 175,
   "metadata": {
    "scrolled": true
   },
   "outputs": [
    {
     "name": "stdout",
     "output_type": "stream",
     "text": [
      "Frequency of words in original training dataset: \n"
     ]
    },
    {
     "data": {
      "text/plain": [
       "<matplotlib.axes._subplots.AxesSubplot at 0x2b1ed4dfd88>"
      ]
     },
     "execution_count": 175,
     "metadata": {},
     "output_type": "execute_result"
    },
    {
     "data": {
      "image/png": "[encoded data removed]",
      "text/plain": [
       "<Figure size 720x720 with 1 Axes>"
      ]
     },
     "metadata": {
      "needs_background": "light"
     },
     "output_type": "display_data"
    }
   ],
   "source": [
    "print(\"Frequency of words in original training dataset: \")\n",
    "df.text.str.split(expand=True).stack().value_counts().head(30).plot(kind='barh',figsize=(10, 10), title='Word Frequency')\n"
   ]
  },
  {
   "cell_type": "markdown",
   "metadata": {
    "slideshow": {
     "slide_type": "slide"
    }
   },
   "source": [
    "# Data Analysis: Observations and Challenges with the Dataset\n",
    "\n",
    "## Frequent words\n",
    "\n",
    "As can be seen in the bar chart above, a lot of words are repeated thousands of times. These words are good candidates to be used as stop words. See **Appendix A** for more details on stop word removal.\n",
    "\n",
    "## Imbalanced dataset problem\n",
    "\n",
    "In the training dataset that was provided, the number of **neutral** samples is significantly lower than the number of **positive** or **negative** reviews. This will likely have an adverse effect when training a classifier model and affect the model's accuracy when classifying reviews for the **neutral** class. We were not able to identify a way to overcome this problem with the provided dataset without adding additional samples of the **neutral** class.\n",
    "\n",
    "## Imbalanced dataset solution\n",
    "\n",
    "Part of the pre-processing step was to find a way to overcome imbalancing of the training dataset samples. We performed a resampling of the **neutral** class samples. More specifically, the approach was to upsample the minority class **neutral** to match the number of samples in the negative class. This helped balance the number of samples in each class to a more realistic distribution.\n",
    "\n",
    "The **upsample_minority_class()** function implements the approach described above.\n",
    "\n",
    "The **downsample_majority_class()** function implements a similar approach to downsample the **positive** majority class "
   ]
  },
  {
   "cell_type": "code",
   "execution_count": 176,
   "metadata": {
    "slideshow": {
     "slide_type": "fragment"
    }
   },
   "outputs": [],
   "source": [
    "def upsample_minority_class(df):\n",
    "    '''\n",
    "    This function performs up-sampling of the class with fewer samples\n",
    "    to balance the training dataset more evenly.\n",
    "    '''\n",
    "    df_positive = df[df['class'] == 'positive']\n",
    "    df_negative = df[df['class'] == 'negative']\n",
    "    df_neutral = df[df['class'] == 'neutral']\n",
    "\n",
    "    df_neutral_upsampled = resample(df_neutral, \n",
    "         replace=True,    # sample with replacement\n",
    "         n_samples=11897, # to match negative class\n",
    "         random_state=42 # to have reproducible results over multiple runs \n",
    "    )\n",
    "    \n",
    "    # Combine with upsampled minority class\n",
    "    df_upsampled = pd.concat([df_positive, df_negative, df_neutral_upsampled])\n",
    "    return df_upsampled\n",
    "\n",
    "def downsample_majority_class(df):\n",
    "    '''\n",
    "    This function performs down-sampling of the class with fewer samples\n",
    "    to balance the training dataset more evenly.\n",
    "    '''\n",
    "    df_positive = df[df['class'] == 'positive']\n",
    "    df_negative = df[df['class'] == 'negative']\n",
    "    df_neutral = df[df['class'] == 'neutral']\n",
    "\n",
    "    df_positive_downsampled = resample(df_positive, \n",
    "         replace=False,    # sample without replacement\n",
    "         n_samples=20000, # downsample to 20,000 samples\n",
    "         random_state=42 # to have reproducible results over multiple runs \n",
    "    )\n",
    "    \n",
    "    # Combine with downsampled majority class\n",
    "    df_downsampled = pd.concat([df_neutral, df_negative, df_positive_downsampled])\n",
    "    return df_downsampled\n"
   ]
  },
  {
   "cell_type": "markdown",
   "metadata": {
    "slideshow": {
     "slide_type": "slide"
    }
   },
   "source": [
    "# Training Pipeline\n",
    "\n",
    "The Pipeline consists of three main steps.\n",
    "    \n",
    "1. Text pre-processing:\n",
    "\n",
    "    The **TfidfVectorizer()** class will perform the following steps on the training data:\n",
    "    \n",
    "    - **Strip unwanted accentuated characters** such as '!'. This helps the model tolerate inputs where some reviews may have a lot of accentuated characters enter by the reviewer.\n",
    "    - Convert all characters in the review text to **lowercase** for consistency.\n",
    "    - **Remove stop words** defined in the variable 'stop_words' from all reviews in the training dataset.\n",
    "\n",
    "\n",
    "2. Feature extraction:\n",
    "\n",
    "    The **TfidfVectorizer()** class from scikit-learn will convert the text the reviews to a matrix of token counts. Subsequently, the **TfidfVectorizer()** class from scikit-learn will calculate a token count matrix and produce a normalized **TF-IDF** representation matrix. The goal of utilizing TF-IDF is to reduce the importance of certain tokens that may be repeated very often in the reviews, even after stop word removal. For example, non-stop words may be common in the reviews but have low importance as features.\n",
    "\n",
    "\n",
    "3. Model training:\n",
    "\n",
    "    The third and last step is to train three (3) models using different classification algorithms. The algorithms we selected were:\n",
    "    - **linear Support Vector Machine**: This is accomplished by calling the fit() function in the **SGDClassifier()** class from scikit-learn. **SGDClassifier()** uses _Stochastic Gradient Descent_ for training. \n",
    "   \n",
    "    - **Logistic Regression Classifier**: This is accomplished by calling the fit() function in the **LogisticRegression()** class from scikit-learn. \n",
    "    \n",
    "    - **Random Forest Classifier**: This is accomplished by calling the fit() function in the **RandomForestClassificer()** class from scikit-learn.\n",
    "\n",
    "For this project, I decided to utilize scikit-learn's **Pipeline** to make it easier to process the training data using **TfidfVectorizer** and then train the different models. The **fit_classifier()** function wraps all of the above functionality.\n",
    "    \n",
    "To train the models, a **70/30 split** is performed on the training dataset. The split is performed to train the model on 70% of the dataset and validate its accuracy with the remaining 30%. \n",
    "\n",
    "## Support Vector Machines\n",
    "**Support vector machines (SVMs)** fit the type of problem we are trying to solve. Our goal is to classify text utilizing a labeled dataset with multiple class.\n",
    "\n",
    "SVMs are suitable for s supervised training environment and can be used for **multiclass classification**, which is exactly what we need in this project.\n",
    "\n",
    "Further, some of the advantages of support vector machines are:\n",
    "- Effective in high dimensional spaces.\n",
    "- Still effective in cases where number of dimensions is greater than the number of samples.\n",
    "- Uses a subset of training points in the decision function (called support vectors), so it is also memory efficient.\n",
    "\n",
    "## Logistic Regression Classifier\n",
    "**Logistic Regrssion** is a Machine Learning algorithm which is used for the classification problems, it is a predictive analysis algorithm and based on the concept of probability. In the context of this project, we are presented with a Multi-class classification problem. In order to use logistic regression, the strategy used by scikit-learn is to perform a transformation. In other words, to reduce the multi-class problem into multiple binary classification problems. The scheme selected to perform this task is One-vs.-Rest, a strategy that involves training a single classifier per class, with the samples of that class as positive samples and all other samples as negatives. When making predictions, OvR will predict the label of a sample using all trained classifiers and select the one with the highest confidence score.\n",
    "\n",
    "## Random Forest Classifier\n",
    "**Random Forest Classifier** is a machine learning algorithm which consists of a large number of individual decision trees which operate as an ensemble. In essence, each individual decision tree predicts a class label and the label with most votes becomes the final model's prediction. The main concept behind Random Forest is that a large number of relatively uncorrelated models (trees in this case) operating as a committee will outperform any of the individual models."
   ]
  },
  {
   "cell_type": "markdown",
   "metadata": {
    "slideshow": {
     "slide_type": "slide"
    }
   },
   "source": [
    "# Training and Validation split datasets\n",
    "This section describes the function used to load, process and split the initial training dataset. \n",
    "\n",
    "The **load_and_split()** function performs four main steps:\n",
    "\n",
    "1. Load the training dataset\n",
    "2. Perform resampling (upsampling and downsampling of minitory and majority classes respectively)\n",
    "3. Save the processed training dataset as 'processed_train3.csv'\n",
    "3. Perform a 70/30 split and return the data\n"
   ]
  },
  {
   "cell_type": "code",
   "execution_count": 177,
   "metadata": {
    "slideshow": {
     "slide_type": "fragment"
    }
   },
   "outputs": [],
   "source": [
    "def load_and_split():\n",
    "    '''\n",
    "    This function loads the train3.csv dataset from the assignment and performs\n",
    "    pre-processing tasks such as stop word removal and train/test split\n",
    "    \n",
    "    return: x_train: 'text' values used for training\n",
    "            x_test: 'text' values used for testing accuracy of the model\n",
    "            y_train: 'class' values used for training\n",
    "            y_test: 'class' values used for testing accuracy of the model\n",
    "    '''\n",
    "    df = pd.read_csv(train_dataset_path)\n",
    "    df = upsample_minority_class(df)\n",
    "    df = downsample_majority_class(df)\n",
    "    df = df.set_index('ID')\n",
    "    \n",
    "    x = df['text']\n",
    "    y = df['class']\n",
    "    x_train, x_test, y_train, y_test = train_test_split(x, y, test_size=0.1)\n",
    "   \n",
    "    return (x_train, x_test, y_train, y_test)\n"
   ]
  },
  {
   "cell_type": "markdown",
   "metadata": {
    "slideshow": {
     "slide_type": "slide"
    }
   },
   "source": [
    "#  Feature Extraction and Multi-class Text Classification\n",
    "This section describes the main part of the program which creates and trains different classifiers according to specified parameters. Some flexibility is given to the user in order to tune parameters and whether the user would like to perform a hyperparameter grid search with k-fold cross validation, or just a simple 70/30 split for training the models.\n",
    "\n",
    "**By default, the program will perform a 70/30 split as it is faster to compute than hyperparameter and cross-validation.**\n",
    "\n",
    "The **fit_classifier()** function will perform the following steps:\n",
    "\n",
    "1. Laern a vocabulary from the training dataset by **extracting features** using counts and term frequencies (TF-IDF   with TfidfVectorizer).\n",
    "2. **Train** SVM, Logistic Regression and Random Forest classifier models.\n",
    "3. If configured:\n",
    "    - Perform an exhaustive **hyperparameter grid search** to tune classifier parameters (**optional**).\n",
    "    - Perofrm k-fold cross validation (**optional**)\n",
    "4. Return a trained model.\n",
    "\n"
   ]
  },
  {
   "cell_type": "code",
   "execution_count": 178,
   "metadata": {
    "slideshow": {
     "slide_type": "fragment"
    }
   },
   "outputs": [
    {
     "name": "stdout",
     "output_type": "stream",
     "text": [
      "=== Training a Linear SVM Classifier ===\n",
      "=== Training a Logistic Regression Classifier ===\n",
      "=== Training a Random Forest Classifier ===\n"
     ]
    }
   ],
   "source": [
    "def fit_classifier(x_train, y_train, classifier, param_search, n):\n",
    "    '''\n",
    "    This function trains a classifier model using a scikit-learn Pipeline.\n",
    "\n",
    "    Performing a parameter grid search with k-fold cross-validation is optional\n",
    "    and can be enabled by setting 'param_grid_search' to True.\n",
    "\n",
    "    x_train: 'text' values used for training the model\n",
    "    y_train: 'class' values used for training the model\n",
    "    classifier: 'svm', 'logreg', 'rf'\n",
    "    param_search: boolean value, True or False\n",
    "    n: cross validation n-fold (integer)\n",
    "    \n",
    "    return: trained SVM classifier\n",
    "    '''\n",
    "    \n",
    "    # Load stop words from stop_words.txt\n",
    "    try:\n",
    "        f = open(stop_words_path, 'r')\n",
    "        stop_words_list = f.read().split('\\n')\n",
    "        f.close()\n",
    "    except OSError as err:\n",
    "        print(\"OS error: {0}\".format(err))\n",
    "\n",
    "    if classifier == 'svm':    \n",
    "        parameters = {\n",
    "            'sgd__max_iter':[500,2000,2000],\n",
    "            'sgd__n_iter_no_change': [5, 10, 20],\n",
    "            'sgd__class_weight': ('balanced', None)\n",
    "        }\n",
    "        pipe = Pipeline([\n",
    "            ('tfidf', TfidfVectorizer(strip_accents='unicode', stop_words=stop_words_list, min_df=3, ngram_range=(1,2))),\n",
    "            ('sgd', SGDClassifier(n_jobs=-1))\n",
    "        ])\n",
    "        \n",
    "    elif classifier == 'logreg':\n",
    "        parameters = {\n",
    "            'lr__max_iter':[1000,2000,10000],\n",
    "            'lr__class_weight': ('balanced',None),\n",
    "            'lr__solver': ('saga', 'newton-cg', 'lbfgs'),\n",
    "            'lr__penalty': ('l2', 'elasticnet')                   \n",
    "        }\n",
    "        pipe = Pipeline([\n",
    "            ('tfidf', TfidfVectorizer(strip_accents='unicode',stop_words=stop_words_list,  min_df=3, ngram_range=(1,2))),\n",
    "            ('lr', LogisticRegression(solver='liblinear',multi_class='auto'))\n",
    "        ])\n",
    "        \n",
    "    elif classifier == 'rf':\n",
    "        parameters = {\n",
    "            'rf__n_estimators':[100,500,1000],\n",
    "            'rf__criterion': ('gini', 'entropy')\n",
    "        }\n",
    "        pipe = Pipeline([\n",
    "            ('tfidf', TfidfVectorizer(strip_accents='unicode', stop_words=stop_words_list, min_df=3, ngram_range=(1,2))),\n",
    "            ('rf', RandomForestClassifier(n_estimators=500, criterion='gini',n_jobs=-1))\n",
    "        ])\n",
    "        \n",
    "    else:\n",
    "        print(\"Invalid classifier option\")\n",
    "        return\n",
    "    \n",
    "    if param_search:\n",
    "        # parameter grid search + cross validation\n",
    "        model = GridSearchCV(pipe, parameters, n_jobs=-1, cv=n)\n",
    "        model.fit(x_train, y_train)\n",
    "    else:\n",
    "        # cross validation only\n",
    "        model = pipe.fit(x_train, y_train)\n",
    "        \n",
    "    return model\n",
    "\n",
    "'''\n",
    "Split the 'train3' dataset into train and test datasets which we will use to train\n",
    "the SVM classifier and test the accuracy of the model\n",
    "'''\n",
    "x_train, x_test, y_train, y_test = load_and_split()\n",
    "\n",
    "# Train the models\n",
    "print(\"=== Training a Linear SVM Classifier ===\")\n",
    "sgd = fit_classifier(x_train, y_train, 'svm', param_grid_search, k_fold)\n",
    "print(\"=== Training a Logistic Regression Classifier ===\")\n",
    "logreg = fit_classifier(x_train, y_train, 'logreg', param_grid_search, k_fold)\n",
    "print(\"=== Training a Random Forest Classifier ===\")\n",
    "rf = fit_classifier(x_train, y_train, 'rf', param_grid_search, k_fold)\n"
   ]
  },
  {
   "cell_type": "markdown",
   "metadata": {
    "slideshow": {
     "slide_type": "slide"
    }
   },
   "source": [
    "# Choosing a Classifier\n",
    "The approach to choosing the best possible classifier is outlined below. \n",
    "\n",
    "Note that this process was only done one time and is disabled by default due to the amount of time it takes to perform all the steps with all the different combination of hyperparameters.\n",
    "\n",
    "1. Define a parameter grid for each of the three classifier algorithms:\n",
    "\n",
    "    Support Vector Machines\n",
    "    \n",
    "    parameters = {\n",
    "        'sgd__max_iter':[500,2000,2000],\n",
    "        'sgd__n_iter_no_change': [5, 10, 20],\n",
    "        'sgd__class_weight': ('balanced', None)\n",
    "    }\n",
    "    \n",
    "    Logistic Regression Classifier\n",
    "    \n",
    "    parameters = {\n",
    "        'lr__max_iter':[1000,2000,10000],\n",
    "        'lr__class_weight': ('balanced',None),\n",
    "        'lr__solver': ('saga', 'newton-cg', 'lbfgs'),\n",
    "        'lr__penalty': ('l2', 'elasticnet')                   \n",
    "    }_\n",
    "    \n",
    "    Random Forest Classifier\n",
    "    \n",
    "    \n",
    "    parameters = { \n",
    "    'rf__n_estimators':[100,500,1000],\n",
    "    'rf__criterion': ('gini', 'entropy')\n",
    "    }\n",
    "\n",
    "\n",
    "2. Perform a hyperparameter grid search using k-fold cross validation.\n",
    "3. Examine the accuracy of the best classifier for each of the three algorithms.\n",
    "4. Select the model with the highest f1-score.\n",
    "    - **_The f1-score is a measure of the model's accuracy based on both precision and recall and is a balanced approach_**\n",
    "5. Obtain the specific training parameters that generated the model."
   ]
  },
  {
   "cell_type": "markdown",
   "metadata": {
    "slideshow": {
     "slide_type": "slide"
    }
   },
   "source": [
    "# Best model\n",
    "In my tests, the model with the highest f1-score was a Random Forest classifier with the following training hyperparameters:\n",
    "\n",
    "{\n",
    "\n",
    "'rf__criterion': 'gini',\n",
    "\n",
    "'rf__n_estimators': 500\n",
    "\n",
    "}\n",
    "\n",
    "**n_estimators**: This parameter sets the number of trees to 500.\n",
    "\n",
    "**criterion**: This parameter sets the split method for the decision trees to 'Gini' score. "
   ]
  },
  {
   "cell_type": "markdown",
   "metadata": {
    "slideshow": {
     "slide_type": "subslide"
    }
   },
   "source": [
    "# Testing Model Accuracy\n",
    "\n",
    "In this step we make predictions on the **test** dataaset from the previous 70/30 dataset split.\n",
    "\n",
    "This will allow us to estimate the model's accuracy by validating the classifications with a subset of pre-labeled reviews (hold-out test set)."
   ]
  },
  {
   "cell_type": "code",
   "execution_count": 179,
   "metadata": {
    "slideshow": {
     "slide_type": "fragment"
    }
   },
   "outputs": [
    {
     "name": "stdout",
     "output_type": "stream",
     "text": [
      "Linear SVM Classifier  accuracy is:  0.8230593607305936 \n",
      "\n",
      "              precision    recall  f1-score   support\n",
      "\n",
      "    positive       0.84      0.81      0.82      1196\n",
      "    negative       0.79      0.66      0.72      1154\n",
      "     neutral       0.83      0.93      0.88      2030\n",
      "\n",
      "    accuracy                           0.82      4380\n",
      "   macro avg       0.82      0.80      0.80      4380\n",
      "weighted avg       0.82      0.82      0.82      4380\n",
      "\n",
      "Logistic Regression Classifier  accuracy is:  0.8328767123287671 \n",
      "\n",
      "              precision    recall  f1-score   support\n",
      "\n",
      "    positive       0.86      0.80      0.82      1196\n",
      "    negative       0.78      0.71      0.74      1154\n",
      "     neutral       0.84      0.93      0.88      2030\n",
      "\n",
      "    accuracy                           0.83      4380\n",
      "   macro avg       0.83      0.81      0.82      4380\n",
      "weighted avg       0.83      0.83      0.83      4380\n",
      "\n",
      "Random Forest Classifier  accuracy is:  0.8867579908675799 \n",
      "\n",
      "              precision    recall  f1-score   support\n",
      "\n",
      "    positive       0.91      0.76      0.83      1196\n",
      "    negative       0.98      0.87      0.92      1154\n",
      "     neutral       0.84      0.97      0.90      2030\n",
      "\n",
      "    accuracy                           0.89      4380\n",
      "   macro avg       0.91      0.87      0.88      4380\n",
      "weighted avg       0.89      0.89      0.89      4380\n",
      "\n",
      "Best model (using f1-score/f-measure): name= random_Forest avg f1-score= 0.8854939145101238 \n",
      "\n"
     ]
    }
   ],
   "source": [
    "def validate_classifier(model, model_name, x_test, y_test):\n",
    "    '''\n",
    "    Predict values using the validation test set from our 70/30 split\n",
    "    and output accuracy of the models\n",
    "    '''\n",
    "    # Define list of classes in the dataset\n",
    "    data_classes = ['positive', 'negative', 'neutral']\n",
    "\n",
    "    y_pred = model.predict(x_test)\n",
    "    print(model_name,' accuracy is: ', accuracy_score(y_test, y_pred),'\\n')\n",
    "    print(classification_report(y_test, y_pred,target_names=data_classes))\n",
    "    report = classification_report(y_test, y_pred,target_names=data_classes, output_dict=True)\n",
    "    return report\n",
    "\n",
    "# Test the accuracy of the models using the validation test set from the split\n",
    "svm_report = validate_classifier(sgd, 'Linear SVM Classifier', x_test, y_test)\n",
    "logreg_report = validate_classifier(logreg, 'Logistic Regression Classifier', x_test, y_test)\n",
    "rf_report = validate_classifier(rf, 'Random Forest Classifier', x_test, y_test)\n",
    "\n",
    "# Print the name and accuracy of the best model\n",
    "f_measure_scores = {\n",
    "    'linear_svm': svm_report['weighted avg']['f1-score'],\n",
    "    'logistic_reg': logreg_report['weighted avg']['f1-score'],\n",
    "    'random_Forest': rf_report['weighted avg']['f1-score']\n",
    "}\n",
    "best_f_measure = f_measure_scores[max(f_measure_scores, key=f_measure_scores.get)]\n",
    "best_model_name = list(f_measure_scores.keys())[list(f_measure_scores.values()).index(best_f_measure)]\n",
    "print(\"Best model (using f1-score/f-measure): name=\",best_model_name,'avg f1-score=', best_f_measure,\"\\n\")\n"
   ]
  },
  {
   "cell_type": "markdown",
   "metadata": {
    "slideshow": {
     "slide_type": "slide"
    }
   },
   "source": [
    "# Classification of unlabeled dataset using the best model\n",
    "\n",
    "Now that we have chosen a classifier we can make predictions on the **test3.csv** dataset provided. This will predict a class for each of the samples in the test3.csv dataset which is completely unlabeled.\n",
    "\n",
    "Scikit-learn will utilize the same Pipeline used to train the model to make predictions. This means that it will **generate TF-IDF values for each term of each review in the test3.csv dataset automatically**."
   ]
  },
  {
   "cell_type": "code",
   "execution_count": 180,
   "metadata": {
    "slideshow": {
     "slide_type": "fragment"
    }
   },
   "outputs": [
    {
     "data": {
      "text/plain": [
       "array(['negative', 'negative', 'positive', ..., 'positive', 'positive',\n",
       "       'positive'], dtype=object)"
      ]
     },
     "execution_count": 180,
     "metadata": {},
     "output_type": "execute_result"
    }
   ],
   "source": [
    "# Predict values for the unlabeled dataset\n",
    "df_rf_pred = pd.read_csv(\"test3.csv\")\n",
    "df_rf_pred = df_rf_pred.set_index('ID')\n",
    "rf_preds = rf.predict(df_rf_pred['text'])\n",
    "rf_preds"
   ]
  },
  {
   "cell_type": "markdown",
   "metadata": {
    "slideshow": {
     "slide_type": "slide"
    }
   },
   "source": [
    "# Formatting Predicted Output\n",
    "\n",
    "The final step is to format our predicted output (classifications) in accordance with the Project specifications. The format of the prediction.csv file should be as follows:\n",
    "\n",
    "**_REVIEW-ID, CLASS_**\n",
    "\n",
    "_123, positive_\n",
    "\n",
    "_456, neutral_\n",
    "\n",
    "_789, negative_\n",
    "\n",
    "The order of the REVIEW-IDs is the same as the order of the IDs in test3.csv"
   ]
  },
  {
   "cell_type": "code",
   "execution_count": 181,
   "metadata": {
    "slideshow": {
     "slide_type": "fragment"
    }
   },
   "outputs": [
    {
     "data": {
      "text/html": [
       "<div>\n",
       "<style scoped>\n",
       "    .dataframe tbody tr th:only-of-type {\n",
       "        vertical-align: middle;\n",
       "    }\n",
       "\n",
       "    .dataframe tbody tr th {\n",
       "        vertical-align: top;\n",
       "    }\n",
       "\n",
       "    .dataframe thead th {\n",
       "        text-align: right;\n",
       "    }\n",
       "</style>\n",
       "<table border=\"1\" class=\"dataframe\">\n",
       "  <thead>\n",
       "    <tr style=\"text-align: right;\">\n",
       "      <th></th>\n",
       "      <th>CLASS</th>\n",
       "    </tr>\n",
       "    <tr>\n",
       "      <th>REVIEW-ID</th>\n",
       "      <th></th>\n",
       "    </tr>\n",
       "  </thead>\n",
       "  <tbody>\n",
       "    <tr>\n",
       "      <th>344</th>\n",
       "      <td>negative</td>\n",
       "    </tr>\n",
       "    <tr>\n",
       "      <th>2324</th>\n",
       "      <td>negative</td>\n",
       "    </tr>\n",
       "    <tr>\n",
       "      <th>3217</th>\n",
       "      <td>positive</td>\n",
       "    </tr>\n",
       "    <tr>\n",
       "      <th>3705</th>\n",
       "      <td>positive</td>\n",
       "    </tr>\n",
       "    <tr>\n",
       "      <th>3959</th>\n",
       "      <td>negative</td>\n",
       "    </tr>\n",
       "    <tr>\n",
       "      <th>...</th>\n",
       "      <td>...</td>\n",
       "    </tr>\n",
       "    <tr>\n",
       "      <th>6662447</th>\n",
       "      <td>negative</td>\n",
       "    </tr>\n",
       "    <tr>\n",
       "      <th>6662575</th>\n",
       "      <td>negative</td>\n",
       "    </tr>\n",
       "    <tr>\n",
       "      <th>6664830</th>\n",
       "      <td>positive</td>\n",
       "    </tr>\n",
       "    <tr>\n",
       "      <th>6665591</th>\n",
       "      <td>positive</td>\n",
       "    </tr>\n",
       "    <tr>\n",
       "      <th>6666002</th>\n",
       "      <td>positive</td>\n",
       "    </tr>\n",
       "  </tbody>\n",
       "</table>\n",
       "<p>13999 rows × 1 columns</p>\n",
       "</div>"
      ],
      "text/plain": [
       "              CLASS\n",
       "REVIEW-ID          \n",
       "344        negative\n",
       "2324       negative\n",
       "3217       positive\n",
       "3705       positive\n",
       "3959       negative\n",
       "...             ...\n",
       "6662447    negative\n",
       "6662575    negative\n",
       "6664830    positive\n",
       "6665591    positive\n",
       "6666002    positive\n",
       "\n",
       "[13999 rows x 1 columns]"
      ]
     },
     "execution_count": 181,
     "metadata": {},
     "output_type": "execute_result"
    }
   ],
   "source": [
    "df_rf_pred['CLASS'] = rf_preds\n",
    "#df_rf_pred.to_csv('output_rf.csv')\n",
    "df_rf_pred.index.names = ['REVIEW-ID']\n",
    "df_rf_pred = df_rf_pred.drop(columns=['text'])\n",
    "df_rf_pred"
   ]
  },
  {
   "cell_type": "code",
   "execution_count": 182,
   "metadata": {
    "slideshow": {
     "slide_type": "fragment"
    }
   },
   "outputs": [
    {
     "name": "stdout",
     "output_type": "stream",
     "text": [
      "Saving predicted outputs to prediction.csv at the current working directory\n",
      "\n",
      "=== PREDICTED CLASS VALUE COUNT ===\n",
      "Total reviews in the test dataset:  13999\n",
      "Number of reviews per class: \n",
      " positive    10903\n",
      "negative     2964\n",
      "neutral       132\n",
      "Name: CLASS, dtype: int64\n",
      "\n",
      "All tasks completed.\n"
     ]
    }
   ],
   "source": [
    "# Save the predicted outputs to a csv file\n",
    "print(\"Saving predicted outputs to prediction.csv at the current working directory\\n\")\n",
    "df_rf_pred.to_csv(\"prediction.csv\")\n",
    "print(\"=== PREDICTED CLASS VALUE COUNT ===\")\n",
    "print(\"Total reviews in the test dataset: \", len(df_rf_pred))\n",
    "print(\"Number of reviews per class: \\n\", df_rf_pred['CLASS'].value_counts())\n",
    "print(\"\\nAll tasks completed.\")"
   ]
  },
  {
   "cell_type": "markdown",
   "metadata": {
    "slideshow": {
     "slide_type": "slide"
    }
   },
   "source": [
    "# Conclusions\n",
    "Using the trained **Random Forest** model to classify the test data yields the following overall results:"
   ]
  },
  {
   "cell_type": "code",
   "execution_count": 183,
   "metadata": {
    "slideshow": {
     "slide_type": "subslide"
    }
   },
   "outputs": [
    {
     "name": "stdout",
     "output_type": "stream",
     "text": [
      "Total reviews in the test dataset:  13999\n",
      "Number of reviews per class: \n",
      " positive    10903\n",
      "negative     2964\n",
      "neutral       132\n",
      "Name: CLASS, dtype: int64\n"
     ]
    }
   ],
   "source": [
    "print(\"Total reviews in the test dataset: \", len(df_rf_pred))\n",
    "print(\"Number of reviews per class: \\n\", df_rf_pred['CLASS'].value_counts())"
   ]
  },
  {
   "cell_type": "code",
   "execution_count": 184,
   "metadata": {
    "slideshow": {
     "slide_type": "subslide"
    }
   },
   "outputs": [
    {
     "data": {
      "text/plain": [
       "<matplotlib.axes._subplots.AxesSubplot at 0x2b1ef9bdac8>"
      ]
     },
     "execution_count": 184,
     "metadata": {},
     "output_type": "execute_result"
    },
    {
     "data": {
      "image/png": "[encoded data removed]",
      "text/plain": [
       "<Figure size 432x288 with 1 Axes>"
      ]
     },
     "metadata": {},
     "output_type": "display_data"
    }
   ],
   "source": [
    "df_rf_pred['CLASS'].value_counts().plot(kind='pie')"
   ]
  },
  {
   "cell_type": "markdown",
   "metadata": {
    "slideshow": {
     "slide_type": "subslide"
    }
   },
   "source": [
    "The ratio of reviews classifed in the test dataset as positive, negative and neutral is somewhat similar to the ratio of reviews in each class in the labeled training dataset. An important factor in obtaining these results was the need to balance the training dataset classes. Without performing up-sampling or down=sampling of the minority and majority classes respectively, the models that were initially trained were very inaccurate when predicting outputs in the neutral and negative classes. In fact, in some cases the model would not predict any outputs in the neutral class at all. Once the dataset was balanced, the classifiers performed much better on average.\n",
    "\n",
    "As outlined in the **Testing Model Accuracy** section, the Random Forest classifier had the highest weighted average f1-score in comparison to the models produced by the logisitic regression and Support Vector Machines learning algorithms. It was interesting to see that by utilizing an ensemble approach such as Random Forest I was able to obtain better predictive performance on the training dataset."
   ]
  },
  {
   "cell_type": "markdown",
   "metadata": {},
   "source": [
    "# Appendix A: Text pre-processing script\n",
    "In the main program, I utilize scikit-learn to perform the text pre-processing (i.e. removing stop words, etc). Given that the pre-processing and generation of term frequencies is part of a Pipeline, the processed training dataset was not easily accessible for exporting. To overcome this problem and meet the project requirement of providing a processed training dataset in CSV and ARFF formats, I created the script outlined in the section below."
   ]
  },
  {
   "cell_type": "code",
   "execution_count": 186,
   "metadata": {},
   "outputs": [
    {
     "name": "stdout",
     "output_type": "stream",
     "text": [
      "Done removing stopwords. See preprocessed_train3.csv\n"
     ]
    }
   ],
   "source": [
    "import pandas as pd\n",
    "\n",
    "def remove_stop_words(text):\n",
    "    '''\n",
    "    This function is used to decode the base64 stop words\n",
    "    No need to modify this\n",
    "    \n",
    "    text: some text\n",
    "    return: list of stop words\n",
    "    '''\n",
    "    try:\n",
    "        text = text.split()\n",
    "        resultwords  = [word.lower() for word in text if word.lower() not in stop_words]\n",
    "        result = ' '.join(resultwords)\n",
    "        return result\n",
    "    except:\n",
    "        print(\"Error removing stop words!\")\n",
    "        exit(1)\n",
    "\n",
    "def main():\n",
    "    df = pd.read_csv(\"train3.csv\")\n",
    "    df = upsample_minority_class(df)\n",
    "    df = downsample_majority_class(df)\n",
    "    df['text'] = df['text'].apply(remove_stop_words)\n",
    "    df = df.set_index('ID')\n",
    "    df.to_csv('preprocessed_train3.csv')\n",
    "    print(\"Done removing stopwords. See preprocessed_train3.csv\")\n",
    "\n",
    "\n",
    "f = open('stop_words.txt')\n",
    "stop_words = f.read().split()\n",
    "f.close()\n",
    "main()"
   ]
  },
  {
   "cell_type": "markdown",
   "metadata": {},
   "source": [
    "The **remove_stop_words()** function will read the original training dataset and remove all the stop words contained in the **stop_words.txt** file.\n",
    "\n",
    "The **stop_words.txt** file contains the set of stop words from the NLTK package, with the following additions:\n",
    "\n",
    "_i, the, food, place, service, we, like, they, really, this, it, staff, got, dont, my, ive, definitely, im, ordered, try, chicken, order, recommend, little_\n",
    "\n",
    "Some of these words are different spellings (or mispellings) of stop words in the NLTK stop word dictionary. Other words, like food, place and service are domain specific words with high frequency in the reviews.\n",
    "\n",
    "The **preprocessed_train3.csv** file contains the final resampled and pre-processed reviews/samples\n",
    "\n",
    "The **preprocessed_train3.arff** file is the same as above but in ARFF format for Weka"
   ]
  }
 ],
 "metadata": {
  "kernelspec": {
   "display_name": "Python 3",
   "language": "python",
   "name": "python3"
  },
  "language_info": {
   "codemirror_mode": {
    "name": "ipython",
    "version": 3
   },
   "file_extension": ".py",
   "mimetype": "text/x-python",
   "name": "python",
   "nbconvert_exporter": "python",
   "pygments_lexer": "ipython3",
   "version": "3.7.6"
  }
 },
 "nbformat": 4,
 "nbformat_minor": 4
}
